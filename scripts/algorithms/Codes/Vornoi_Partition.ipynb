{
  "cells": [
    {
      "cell_type": "code",
      "execution_count": 5,
      "metadata": {},
      "outputs": [
        {
          "name": "stdout",
          "output_type": "stream",
          "text": [
            "False\n"
          ]
        },
        {
          "data": {
            "image/svg+xml": "<svg xmlns=\"http://www.w3.org/2000/svg\" xmlns:xlink=\"http://www.w3.org/1999/xlink\" width=\"100.0\" height=\"100.0\" viewBox=\"-0.04 -0.04 1.08 1.08\" preserveAspectRatio=\"xMinYMin meet\"><g transform=\"matrix(1,0,0,-1,0,1.0)\"><g><path fill-rule=\"evenodd\" fill=\"#66cc99\" stroke=\"#555555\" stroke-width=\"0.0216\" opacity=\"0.6\" d=\"M 0.5,0.0 L 0.0,0.0 L 0.0,1.0 L 1.0,1.0 L 1.0,0.33333333333333337 L 0.5,0.0 z\" /><path fill-rule=\"evenodd\" fill=\"#66cc99\" stroke=\"#555555\" stroke-width=\"0.0216\" opacity=\"0.6\" d=\"M 1.0,0.33333333333333337 L 1.0,0.0 L 0.5,0.0 L 1.0,0.33333333333333337 z\" /></g></g></svg>",
            "text/plain": [
              "<shapely.geometry.collection.GeometryCollection at 0x14fffdfba60>"
            ]
          },
          "execution_count": 5,
          "metadata": {},
          "output_type": "execute_result"
        }
      ],
      "source": [
        "from shapely.ops import split\n",
        "from shapely.geometry import Polygon\n",
        "from shapely.geometry import LineString as Line\n",
        "from shapely.geometry import Point\n",
        "# from shapely.geometry import \n",
        "\n",
        "a = Polygon([[0,0],[1,0],[1,1],[0,1]])\n",
        "print(a.intersects(Point([0,5])))\n",
        "b = Line([[-1,-1],[2,1],[3,2]])\n",
        "split(a,b)"
      ]
    },
    {
      "cell_type": "code",
      "execution_count": 6,
      "metadata": {},
      "outputs": [
        {
          "name": "stdout",
          "output_type": "stream",
          "text": [
            "[1, 2, 3, 8, 5, 6]\n"
          ]
        }
      ],
      "source": [
        "import numpy as np\n",
        "a = [1,2,3]\n",
        "b = [3,5,6,8]\n",
        "c = set(b)-set(a)\n",
        "a = a + list(c)\n",
        "print(a)"
      ]
    },
    {
      "cell_type": "code",
      "execution_count": 1,
      "metadata": {},
      "outputs": [],
      "source": [
        "from matplotlib import axis\n",
        "import numpy as np\n",
        "from scipy.spatial import Voronoi, voronoi_plot_2d\n",
        "from scipy.spatial import ConvexHull, convex_hull_plot_2d\n",
        "import matplotlib.pyplot as plt\n",
        "from sympy import *\n",
        "import networkx as nx\n",
        "from scipy._lib.decorator import decorator as _decorator\n",
        "from yaml import Mark\n",
        "import smallestenclosingcircle \n",
        "import statistics\n",
        "import datetime\n",
        "import xml.etree.ElementTree as ET\n",
        "from math import *\n",
        "import os\n",
        "import shutil\n",
        "from shapely.geometry import Polygon as Shapely_polygon\n",
        "from shapely.geometry import LineString as Shapely_line\n",
        "from shapely.geometry import Point as Shapely_point\n",
        "from shapely.ops import split as Shapely_split\n",
        "from shapely.ops import cascaded_union as Shapely_cascaded_union\n",
        "import sys"
      ]
    },
    {
      "cell_type": "code",
      "execution_count": 2,
      "metadata": {},
      "outputs": [
        {
          "name": "stdout",
          "output_type": "stream",
          "text": [
            "[[ 0.27915877  0.63145136]\n",
            " [ 0.45288659  0.67173823]\n",
            " [ 0.45604488  0.6780996 ]\n",
            " [ 0.90445621  0.34747564]\n",
            " [ 0.63405972  0.45742862]\n",
            " [ 0.28039803 -0.12607449]\n",
            " [ 0.33746197  0.03673498]]\n",
            "[[-1, 2], [-1, 0, 1, 2], [], [6, 4, 3, 5], [5, -1, 3], [4, 1, 2, -1, 3], [6, 0, 1, 4], [6, 0, -1, 5]]\n"
          ]
        },
        {
          "data": {
            "image/png": "[encoded data removed]",
            "text/plain": [
              "<Figure size 432x288 with 1 Axes>"
            ]
          },
          "metadata": {
            "needs_background": "light"
          },
          "output_type": "display_data"
        }
      ],
      "source": [
        "rng = np.random.default_rng(12345)\n",
        "old_points = rng.random((7, 2))\n",
        "vor = Voronoi(old_points)\n",
        "voronoi_plot_2d(vor)\n",
        "print(vor.vertices)\n",
        "print(vor.regions)"
      ]
    },
    {
      "cell_type": "code",
      "execution_count": 9,
      "metadata": {},
      "outputs": [
        {
          "data": {
            "text/plain": [
              "[[-1, 2],\n",
              " [-1, 0, 1, 2],\n",
              " [],\n",
              " [6, 4, 3, 5],\n",
              " [5, -1, 3],\n",
              " [4, 1, 2, -1, 3],\n",
              " [6, 0, 1, 4],\n",
              " [6, 0, -1, 5]]"
            ]
          },
          "execution_count": 9,
          "metadata": {},
          "output_type": "execute_result"
        }
      ],
      "source": [
        "\n",
        "vor.regions"
      ]
    }
  ],
  "metadata": {
    "colab": {
      "collapsed_sections": [],
      "name": "Vornoi Partition.ipynb",
      "provenance": []
    },
    "kernelspec": {
      "display_name": "Python 3.10.5 64-bit (windows store)",
      "language": "python",
      "name": "python3"
    },
    "language_info": {
      "codemirror_mode": {
        "name": "ipython",
        "version": 3
      },
      "file_extension": ".py",
      "mimetype": "text/x-python",
      "name": "python",
      "nbconvert_exporter": "python",
      "pygments_lexer": "ipython3",
      "version": "3.10.5"
    },
    "vscode": {
      "interpreter": {
        "hash": "9b651bc0006b8767cec9813f263f504c408c124650dc129b07f5a761a4243485"
      }
    }
  },
  "nbformat": 4,
  "nbformat_minor": 0
}
