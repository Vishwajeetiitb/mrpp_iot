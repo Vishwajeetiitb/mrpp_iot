{
 "cells": [
  {
   "cell_type": "code",
   "execution_count": 1,
   "metadata": {},
   "outputs": [],
   "source": [
    "import numpy as np\n",
    "from shapely.geometry import Polygon\n",
    "\n",
    "def create_grid(poly, grid_size):\n",
    "    xmin, ymin, xmax, ymax = poly.bounds\n",
    "    xcoords = np.arange(xmin, xmax+grid_size, grid_size)\n",
    "    ycoords = np.arange(ymin, ymax+grid_size, grid_size)\n",
    "    cells = []\n",
    "    for x in range(len(xcoords)-1):\n",
    "        for y in range(len(ycoords)-1):\n",
    "            cell_poly = Polygon([(xcoords[x], ycoords[y]), \n",
    "                                 (xcoords[x+1], ycoords[y]), \n",
    "                                 (xcoords[x+1], ycoords[y+1]), \n",
    "                                 (xcoords[x], ycoords[y+1])])\n",
    "            if poly.intersects(cell_poly):\n",
    "                cells.append(cell_poly)\n",
    "    return cells\n"
   ]
  },
  {
   "cell_type": "code",
   "execution_count": 4,
   "metadata": {},
   "outputs": [
    {
     "data": {
      "application/vnd.plotly.v1+json": {
       "config": {
        "plotlyServerURL": "https://plot.ly"
       },
       "data": [
        {
         "line": {
          "color": "blue"
         },
         "mode": "lines",
         "type": "scatter",
         "x": [
          0,
          1,
          3,
          5,
          6,
          0
         ],
         "y": [
          0,
          2,
          3,
          2,
          0,
          0
         ]
        },
        {
         "line": {
          "color": "red"
         },
         "mode": "lines",
         "type": "scatter",
         "x": [
          0,
          1,
          1,
          0,
          0
         ],
         "y": [
          0,
          0,
          1,
          1,
          0
         ]
        },
        {
         "line": {
          "color": "red"
         },
         "mode": "lines",
         "type": "scatter",
         "x": [
          0,
          1,
          1,
          0,
          0
         ],
         "y": [
          1,
          1,
          2,
          2,
          1
         ]
        },
        {
         "line": {
          "color": "red"
         },
         "mode": "lines",
         "type": "scatter",
         "x": [
          0,
          1,
          1,
          0,
          0
         ],
         "y": [
          2,
          2,
          3,
          3,
          2
         ]
        },
        {
         "line": {
          "color": "red"
         },
         "mode": "lines",
         "type": "scatter",
         "x": [
          1,
          2,
          2,
          1,
          1
         ],
         "y": [
          0,
          0,
          1,
          1,
          0
         ]
        },
        {
         "line": {
          "color": "red"
         },
         "mode": "lines",
         "type": "scatter",
         "x": [
          1,
          2,
          2,
          1,
          1
         ],
         "y": [
          1,
          1,
          2,
          2,
          1
         ]
        },
        {
         "line": {
          "color": "red"
         },
         "mode": "lines",
         "type": "scatter",
         "x": [
          1,
          2,
          2,
          1,
          1
         ],
         "y": [
          2,
          2,
          3,
          3,
          2
         ]
        },
        {
         "line": {
          "color": "red"
         },
         "mode": "lines",
         "type": "scatter",
         "x": [
          2,
          3,
          3,
          2,
          2
         ],
         "y": [
          0,
          0,
          1,
          1,
          0
         ]
        },
        {
         "line": {
          "color": "red"
         },
         "mode": "lines",
         "type": "scatter",
         "x": [
          2,
          3,
          3,
          2,
          2
         ],
         "y": [
          1,
          1,
          2,
          2,
          1
         ]
        },
        {
         "line": {
          "color": "red"
         },
         "mode": "lines",
         "type": "scatter",
         "x": [
          2,
          3,
          3,
          2,
          2
         ],
         "y": [
          2,
          2,
          3,
          3,
          2
         ]
        },
        {
         "line": {
          "color": "red"
         },
         "mode": "lines",
         "type": "scatter",
         "x": [
          3,
          4,
          4,
          3,
          3
         ],
         "y": [
          0,
          0,
          1,
          1,
          0
         ]
        },
        {
         "line": {
          "color": "red"
         },
         "mode": "lines",
         "type": "scatter",
         "x": [
          3,
          4,
          4,
          3,
          3
         ],
         "y": [
          1,
          1,
          2,
          2,
          1
         ]
        },
        {
         "line": {
          "color": "red"
         },
         "mode": "lines",
         "type": "scatter",
         "x": [
          3,
          4,
          4,
          3,
          3
         ],
         "y": [
          2,
          2,
          3,
          3,
          2
         ]
        },
        {
         "line": {
          "color": "red"
         },
         "mode": "lines",
         "type": "scatter",
         "x": [
          4,
          5,
          5,
          4,
          4
         ],
         "y": [
          0,
          0,
          1,
          1,
          0
         ]
        },
        {
         "line": {
          "color": "red"
         },
         "mode": "lines",
         "type": "scatter",
         "x": [
          4,
          5,
          5,
          4,
          4
         ],
         "y": [
          1,
          1,
          2,
          2,
          1
         ]
        },
        {
         "line": {
          "color": "red"
         },
         "mode": "lines",
         "type": "scatter",
         "x": [
          4,
          5,
          5,
          4,
          4
         ],
         "y": [
          2,
          2,
          3,
          3,
          2
         ]
        },
        {
         "line": {
          "color": "red"
         },
         "mode": "lines",
         "type": "scatter",
         "x": [
          5,
          6,
          6,
          5,
          5
         ],
         "y": [
          0,
          0,
          1,
          1,
          0
         ]
        },
        {
         "line": {
          "color": "red"
         },
         "mode": "lines",
         "type": "scatter",
         "x": [
          5,
          6,
          6,
          5,
          5
         ],
         "y": [
          1,
          1,
          2,
          2,
          1
         ]
        },
        {
         "line": {
          "color": "red"
         },
         "mode": "lines",
         "type": "scatter",
         "x": [
          5,
          6,
          6,
          5,
          5
         ],
         "y": [
          2,
          2,
          3,
          3,
          2
         ]
        }
       ],
       "layout": {
        "template": {
         "data": {
          "bar": [
           {
            "error_x": {
             "color": "#2a3f5f"
            },
            "error_y": {
             "color": "#2a3f5f"
            },
            "marker": {
             "line": {
              "color": "#E5ECF6",
              "width": 0.5
             },
             "pattern": {
              "fillmode": "overlay",
              "size": 10,
              "solidity": 0.2
             }
            },
            "type": "bar"
           }
          ],
          "barpolar": [
           {
            "marker": {
             "line": {
              "color": "#E5ECF6",
              "width": 0.5
             },
             "pattern": {
              "fillmode": "overlay",
              "size": 10,
              "solidity": 0.2
             }
            },
            "type": "barpolar"
           }
          ],
          "carpet": [
           {
            "aaxis": {
             "endlinecolor": "#2a3f5f",
             "gridcolor": "white",
             "linecolor": "white",
             "minorgridcolor": "white",
             "startlinecolor": "#2a3f5f"
            },
            "baxis": {
             "endlinecolor": "#2a3f5f",
             "gridcolor": "white",
             "linecolor": "white",
             "minorgridcolor": "white",
             "startlinecolor": "#2a3f5f"
            },
            "type": "carpet"
           }
          ],
          "choropleth": [
           {
            "colorbar": {
             "outlinewidth": 0,
             "ticks": ""
            },
            "type": "choropleth"
           }
          ],
          "contour": [
           {
            "colorbar": {
             "outlinewidth": 0,
             "ticks": ""
            },
            "colorscale": [
             [
              0,
              "#0d0887"
             ],
             [
              0.1111111111111111,
              "#46039f"
             ],
             [
              0.2222222222222222,
              "#7201a8"
             ],
             [
              0.3333333333333333,
              "#9c179e"
             ],
             [
              0.4444444444444444,
              "#bd3786"
             ],
             [
              0.5555555555555556,
              "#d8576b"
             ],
             [
              0.6666666666666666,
              "#ed7953"
             ],
             [
              0.7777777777777778,
              "#fb9f3a"
             ],
             [
              0.8888888888888888,
              "#fdca26"
             ],
             [
              1,
              "#f0f921"
             ]
            ],
            "type": "contour"
           }
          ],
          "contourcarpet": [
           {
            "colorbar": {
             "outlinewidth": 0,
             "ticks": ""
            },
            "type": "contourcarpet"
           }
          ],
          "heatmap": [
           {
            "colorbar": {
             "outlinewidth": 0,
             "ticks": ""
            },
            "colorscale": [
             [
              0,
              "#0d0887"
             ],
             [
              0.1111111111111111,
              "#46039f"
             ],
             [
              0.2222222222222222,
              "#7201a8"
             ],
             [
              0.3333333333333333,
              "#9c179e"
             ],
             [
              0.4444444444444444,
              "#bd3786"
             ],
             [
              0.5555555555555556,
              "#d8576b"
             ],
             [
              0.6666666666666666,
              "#ed7953"
             ],
             [
              0.7777777777777778,
              "#fb9f3a"
             ],
             [
              0.8888888888888888,
              "#fdca26"
             ],
             [
              1,
              "#f0f921"
             ]
            ],
            "type": "heatmap"
           }
          ],
          "heatmapgl": [
           {
            "colorbar": {
             "outlinewidth": 0,
             "ticks": ""
            },
            "colorscale": [
             [
              0,
              "#0d0887"
             ],
             [
              0.1111111111111111,
              "#46039f"
             ],
             [
              0.2222222222222222,
              "#7201a8"
             ],
             [
              0.3333333333333333,
              "#9c179e"
             ],
             [
              0.4444444444444444,
              "#bd3786"
             ],
             [
              0.5555555555555556,
              "#d8576b"
             ],
             [
              0.6666666666666666,
              "#ed7953"
             ],
             [
              0.7777777777777778,
              "#fb9f3a"
             ],
             [
              0.8888888888888888,
              "#fdca26"
             ],
             [
              1,
              "#f0f921"
             ]
            ],
            "type": "heatmapgl"
           }
          ],
          "histogram": [
           {
            "marker": {
             "pattern": {
              "fillmode": "overlay",
              "size": 10,
              "solidity": 0.2
             }
            },
            "type": "histogram"
           }
          ],
          "histogram2d": [
           {
            "colorbar": {
             "outlinewidth": 0,
             "ticks": ""
            },
            "colorscale": [
             [
              0,
              "#0d0887"
             ],
             [
              0.1111111111111111,
              "#46039f"
             ],
             [
              0.2222222222222222,
              "#7201a8"
             ],
             [
              0.3333333333333333,
              "#9c179e"
             ],
             [
              0.4444444444444444,
              "#bd3786"
             ],
             [
              0.5555555555555556,
              "#d8576b"
             ],
             [
              0.6666666666666666,
              "#ed7953"
             ],
             [
              0.7777777777777778,
              "#fb9f3a"
             ],
             [
              0.8888888888888888,
              "#fdca26"
             ],
             [
              1,
              "#f0f921"
             ]
            ],
            "type": "histogram2d"
           }
          ],
          "histogram2dcontour": [
           {
            "colorbar": {
             "outlinewidth": 0,
             "ticks": ""
            },
            "colorscale": [
             [
              0,
              "#0d0887"
             ],
             [
              0.1111111111111111,
              "#46039f"
             ],
             [
              0.2222222222222222,
              "#7201a8"
             ],
             [
              0.3333333333333333,
              "#9c179e"
             ],
             [
              0.4444444444444444,
              "#bd3786"
             ],
             [
              0.5555555555555556,
              "#d8576b"
             ],
             [
              0.6666666666666666,
              "#ed7953"
             ],
             [
              0.7777777777777778,
              "#fb9f3a"
             ],
             [
              0.8888888888888888,
              "#fdca26"
             ],
             [
              1,
              "#f0f921"
             ]
            ],
            "type": "histogram2dcontour"
           }
          ],
          "mesh3d": [
           {
            "colorbar": {
             "outlinewidth": 0,
             "ticks": ""
            },
            "type": "mesh3d"
           }
          ],
          "parcoords": [
           {
            "line": {
             "colorbar": {
              "outlinewidth": 0,
              "ticks": ""
             }
            },
            "type": "parcoords"
           }
          ],
          "pie": [
           {
            "automargin": true,
            "type": "pie"
           }
          ],
          "scatter": [
           {
            "fillpattern": {
             "fillmode": "overlay",
             "size": 10,
             "solidity": 0.2
            },
            "type": "scatter"
           }
          ],
          "scatter3d": [
           {
            "line": {
             "colorbar": {
              "outlinewidth": 0,
              "ticks": ""
             }
            },
            "marker": {
             "colorbar": {
              "outlinewidth": 0,
              "ticks": ""
             }
            },
            "type": "scatter3d"
           }
          ],
          "scattercarpet": [
           {
            "marker": {
             "colorbar": {
              "outlinewidth": 0,
              "ticks": ""
             }
            },
            "type": "scattercarpet"
           }
          ],
          "scattergeo": [
           {
            "marker": {
             "colorbar": {
              "outlinewidth": 0,
              "ticks": ""
             }
            },
            "type": "scattergeo"
           }
          ],
          "scattergl": [
           {
            "marker": {
             "colorbar": {
              "outlinewidth": 0,
              "ticks": ""
             }
            },
            "type": "scattergl"
           }
          ],
          "scattermapbox": [
           {
            "marker": {
             "colorbar": {
              "outlinewidth": 0,
              "ticks": ""
             }
            },
            "type": "scattermapbox"
           }
          ],
          "scatterpolar": [
           {
            "marker": {
             "colorbar": {
              "outlinewidth": 0,
              "ticks": ""
             }
            },
            "type": "scatterpolar"
           }
          ],
          "scatterpolargl": [
           {
            "marker": {
             "colorbar": {
              "outlinewidth": 0,
              "ticks": ""
             }
            },
            "type": "scatterpolargl"
           }
          ],
          "scatterternary": [
           {
            "marker": {
             "colorbar": {
              "outlinewidth": 0,
              "ticks": ""
             }
            },
            "type": "scatterternary"
           }
          ],
          "surface": [
           {
            "colorbar": {
             "outlinewidth": 0,
             "ticks": ""
            },
            "colorscale": [
             [
              0,
              "#0d0887"
             ],
             [
              0.1111111111111111,
              "#46039f"
             ],
             [
              0.2222222222222222,
              "#7201a8"
             ],
             [
              0.3333333333333333,
              "#9c179e"
             ],
             [
              0.4444444444444444,
              "#bd3786"
             ],
             [
              0.5555555555555556,
              "#d8576b"
             ],
             [
              0.6666666666666666,
              "#ed7953"
             ],
             [
              0.7777777777777778,
              "#fb9f3a"
             ],
             [
              0.8888888888888888,
              "#fdca26"
             ],
             [
              1,
              "#f0f921"
             ]
            ],
            "type": "surface"
           }
          ],
          "table": [
           {
            "cells": {
             "fill": {
              "color": "#EBF0F8"
             },
             "line": {
              "color": "white"
             }
            },
            "header": {
             "fill": {
              "color": "#C8D4E3"
             },
             "line": {
              "color": "white"
             }
            },
            "type": "table"
           }
          ]
         },
         "layout": {
          "annotationdefaults": {
           "arrowcolor": "#2a3f5f",
           "arrowhead": 0,
           "arrowwidth": 1
          },
          "autotypenumbers": "strict",
          "coloraxis": {
           "colorbar": {
            "outlinewidth": 0,
            "ticks": ""
           }
          },
          "colorscale": {
           "diverging": [
            [
             0,
             "#8e0152"
            ],
            [
             0.1,
             "#c51b7d"
            ],
            [
             0.2,
             "#de77ae"
            ],
            [
             0.3,
             "#f1b6da"
            ],
            [
             0.4,
             "#fde0ef"
            ],
            [
             0.5,
             "#f7f7f7"
            ],
            [
             0.6,
             "#e6f5d0"
            ],
            [
             0.7,
             "#b8e186"
            ],
            [
             0.8,
             "#7fbc41"
            ],
            [
             0.9,
             "#4d9221"
            ],
            [
             1,
             "#276419"
            ]
           ],
           "sequential": [
            [
             0,
             "#0d0887"
            ],
            [
             0.1111111111111111,
             "#46039f"
            ],
            [
             0.2222222222222222,
             "#7201a8"
            ],
            [
             0.3333333333333333,
             "#9c179e"
            ],
            [
             0.4444444444444444,
             "#bd3786"
            ],
            [
             0.5555555555555556,
             "#d8576b"
            ],
            [
             0.6666666666666666,
             "#ed7953"
            ],
            [
             0.7777777777777778,
             "#fb9f3a"
            ],
            [
             0.8888888888888888,
             "#fdca26"
            ],
            [
             1,
             "#f0f921"
            ]
           ],
           "sequentialminus": [
            [
             0,
             "#0d0887"
            ],
            [
             0.1111111111111111,
             "#46039f"
            ],
            [
             0.2222222222222222,
             "#7201a8"
            ],
            [
             0.3333333333333333,
             "#9c179e"
            ],
            [
             0.4444444444444444,
             "#bd3786"
            ],
            [
             0.5555555555555556,
             "#d8576b"
            ],
            [
             0.6666666666666666,
             "#ed7953"
            ],
            [
             0.7777777777777778,
             "#fb9f3a"
            ],
            [
             0.8888888888888888,
             "#fdca26"
            ],
            [
             1,
             "#f0f921"
            ]
           ]
          },
          "colorway": [
           "#636efa",
           "#EF553B",
           "#00cc96",
           "#ab63fa",
           "#FFA15A",
           "#19d3f3",
           "#FF6692",
           "#B6E880",
           "#FF97FF",
           "#FECB52"
          ],
          "font": {
           "color": "#2a3f5f"
          },
          "geo": {
           "bgcolor": "white",
           "lakecolor": "white",
           "landcolor": "#E5ECF6",
           "showlakes": true,
           "showland": true,
           "subunitcolor": "white"
          },
          "hoverlabel": {
           "align": "left"
          },
          "hovermode": "closest",
          "mapbox": {
           "style": "light"
          },
          "paper_bgcolor": "white",
          "plot_bgcolor": "#E5ECF6",
          "polar": {
           "angularaxis": {
            "gridcolor": "white",
            "linecolor": "white",
            "ticks": ""
           },
           "bgcolor": "#E5ECF6",
           "radialaxis": {
            "gridcolor": "white",
            "linecolor": "white",
            "ticks": ""
           }
          },
          "scene": {
           "xaxis": {
            "backgroundcolor": "#E5ECF6",
            "gridcolor": "white",
            "gridwidth": 2,
            "linecolor": "white",
            "showbackground": true,
            "ticks": "",
            "zerolinecolor": "white"
           },
           "yaxis": {
            "backgroundcolor": "#E5ECF6",
            "gridcolor": "white",
            "gridwidth": 2,
            "linecolor": "white",
            "showbackground": true,
            "ticks": "",
            "zerolinecolor": "white"
           },
           "zaxis": {
            "backgroundcolor": "#E5ECF6",
            "gridcolor": "white",
            "gridwidth": 2,
            "linecolor": "white",
            "showbackground": true,
            "ticks": "",
            "zerolinecolor": "white"
           }
          },
          "shapedefaults": {
           "line": {
            "color": "#2a3f5f"
           }
          },
          "ternary": {
           "aaxis": {
            "gridcolor": "white",
            "linecolor": "white",
            "ticks": ""
           },
           "baxis": {
            "gridcolor": "white",
            "linecolor": "white",
            "ticks": ""
           },
           "bgcolor": "#E5ECF6",
           "caxis": {
            "gridcolor": "white",
            "linecolor": "white",
            "ticks": ""
           }
          },
          "title": {
           "x": 0.05
          },
          "xaxis": {
           "automargin": true,
           "gridcolor": "white",
           "linecolor": "white",
           "ticks": "",
           "title": {
            "standoff": 15
           },
           "zerolinecolor": "white",
           "zerolinewidth": 2
          },
          "yaxis": {
           "automargin": true,
           "gridcolor": "white",
           "linecolor": "white",
           "ticks": "",
           "title": {
            "standoff": 15
           },
           "zerolinecolor": "white",
           "zerolinewidth": 2
          }
         }
        },
        "title": {
         "text": "Convex Hull with Grid Cells"
        },
        "xaxis": {
         "scaleanchor": "y",
         "scaleratio": 1
        },
        "yaxis": {
         "scaleanchor": "x",
         "scaleratio": 1
        }
       }
      }
     },
     "metadata": {},
     "output_type": "display_data"
    }
   ],
   "source": [
    "import plotly.graph_objects as go\n",
    "from shapely.geometry import Polygon\n",
    "\n",
    "# Create a Shapely convex hull\n",
    "points = [(0, 0), (1, 2), (2, 1), (3, 3), (4, 1), (5, 2), (6, 0)]\n",
    "poly = Polygon(points)\n",
    "hull = poly.convex_hull\n",
    "\n",
    "# Create grid cells for the convex hull\n",
    "grid_size = 1\n",
    "cells = create_grid(hull, grid_size)\n",
    "\n",
    "# Create a Plotly figure and add the convex hull and grid cells as traces\n",
    "fig = go.Figure()\n",
    "fig.add_trace(go.Scatter(x=hull.exterior.xy[0].tolist(), y=hull.exterior.xy[1].tolist(), mode='lines', line=dict(color='blue')))\n",
    "for cell in cells:\n",
    "    fig.add_trace(go.Scatter(x=cell.exterior.xy[0].tolist(), y=cell.exterior.xy[1].tolist(), mode='lines', line=dict(color='red')))\n",
    "\n",
    "# Set the layout and show the figure\n",
    "fig.update_layout(title='Convex Hull with Grid Cells', xaxis=dict(scaleanchor=\"y\", scaleratio=1), yaxis=dict(scaleanchor=\"x\", scaleratio=1))\n",
    "fig.show()\n"
   ]
  },
  {
   "cell_type": "code",
   "execution_count": 65,
   "metadata": {},
   "outputs": [
    {
     "ename": "AttributeError",
     "evalue": "'MultiPolygon' object has no attribute 'exterior'",
     "output_type": "error",
     "traceback": [
      "\u001b[0;31m---------------------------------------------------------------------------\u001b[0m",
      "\u001b[0;31mAttributeError\u001b[0m                            Traceback (most recent call last)",
      "Cell \u001b[0;32mIn [65], line 28\u001b[0m\n\u001b[1;32m     25\u001b[0m         partially_contained_cells\u001b[39m.\u001b[39mappend(intersection)\n\u001b[1;32m     27\u001b[0m \u001b[39m# Convert to tuples to make them hashable\u001b[39;00m\n\u001b[0;32m---> 28\u001b[0m partially_contained_cells \u001b[39m=\u001b[39m [\u001b[39mtuple\u001b[39m(cell\u001b[39m.\u001b[39mexterior\u001b[39m.\u001b[39mcoords) \u001b[39mfor\u001b[39;00m cell \u001b[39min\u001b[39;00m partially_contained_cells]\n\u001b[1;32m     30\u001b[0m \u001b[39m# Remove any duplicates\u001b[39;00m\n\u001b[1;32m     31\u001b[0m partially_contained_cells \u001b[39m=\u001b[39m \u001b[39mlist\u001b[39m(\u001b[39mset\u001b[39m(partially_contained_cells))\n",
      "Cell \u001b[0;32mIn [65], line 28\u001b[0m, in \u001b[0;36m<listcomp>\u001b[0;34m(.0)\u001b[0m\n\u001b[1;32m     25\u001b[0m         partially_contained_cells\u001b[39m.\u001b[39mappend(intersection)\n\u001b[1;32m     27\u001b[0m \u001b[39m# Convert to tuples to make them hashable\u001b[39;00m\n\u001b[0;32m---> 28\u001b[0m partially_contained_cells \u001b[39m=\u001b[39m [\u001b[39mtuple\u001b[39m(cell\u001b[39m.\u001b[39;49mexterior\u001b[39m.\u001b[39mcoords) \u001b[39mfor\u001b[39;00m cell \u001b[39min\u001b[39;00m partially_contained_cells]\n\u001b[1;32m     30\u001b[0m \u001b[39m# Remove any duplicates\u001b[39;00m\n\u001b[1;32m     31\u001b[0m partially_contained_cells \u001b[39m=\u001b[39m \u001b[39mlist\u001b[39m(\u001b[39mset\u001b[39m(partially_contained_cells))\n",
      "\u001b[0;31mAttributeError\u001b[0m: 'MultiPolygon' object has no attribute 'exterior'"
     ]
    }
   ],
   "source": [
    "import rospkg\n",
    "import pickle\n",
    "import plotly.graph_objects as go\n",
    "from shapely.geometry import Polygon\n",
    "import numpy as np\n",
    "\n",
    "dirname = rospkg.RosPack().get_path('mrpp_sumo')\n",
    "graph_name = 'iit_bombay'\n",
    "hull_path = dirname+'/graph_ml/'+graph_name+'_hull'\n",
    "with open(hull_path, \"rb\") as poly_file:\n",
    "    hull = pickle.load(poly_file)\n",
    "\n",
    "grid_size = 300\n",
    "gride_cell_area = grid_size*grid_size\n",
    "cells = create_grid(hull, grid_size)\n",
    "fully_contained_cells = []\n",
    "for cell in cells:\n",
    "    if cell.within(hull):\n",
    "        fully_contained_cells.append(cell)\n",
    "\n",
    "partially_contained_cells = []\n",
    "for cell in cells:\n",
    "    intersection = cell.intersection(hull)\n",
    "    if intersection.area > 0 and not cell.within(hull):\n",
    "        partially_contained_cells.append(intersection)\n",
    "\n",
    "# Convert to tuples to make them hashable\n",
    "partially_contained_cells = [tuple(cell.exterior.coords) for cell in partially_contained_cells]\n",
    "\n",
    "# Remove any duplicates\n",
    "partially_contained_cells = list(set(partially_contained_cells))\n",
    "\n",
    "# Convert back to Polygon objects\n",
    "partially_contained_cells = [Polygon(cell) for cell in partially_contained_cells]\n",
    "\n",
    "contained_cells = fully_contained_cells + partially_contained_cells\n",
    "# Create a Plotly figure and add the convex hull and grid cells as traces\n",
    "fig = go.Figure()\n",
    "\n",
    "# for cell in partially_contained_cells:\n",
    "#     fig.add_trace(go.Scatter(x=cell.exterior.xy[0].tolist(), y=cell.exterior.xy[1].tolist(), mode='lines', line=dict(color='red')))\n",
    "# for cell in fully_contained_cells:\n",
    "#     fig.add_trace(go.Scatter(x=cell.exterior.xy[0].tolist(), y=cell.exterior.xy[1].tolist(), mode='lines', line=dict(color='green')))\n",
    "area_fraction = []\n",
    "centers = []\n",
    "for cell in contained_cells:\n",
    "    area_fraction.append(np.round(cell.area/gride_cell_area,2))\n",
    "    centers.append(cell.centroid)\n",
    "    # print(cell.centroid)\n",
    "    fig.add_trace(go.Scatter(x=cell.exterior.xy[0].tolist(), y=cell.exterior.xy[1].tolist(), mode='lines', line=dict(color='green')))\n",
    "    fig.add_trace(go.Scatter(x=[cell.centroid.x], y=[cell.centroid.y], mode='markers', line=dict(color='red')))      \n",
    "\n",
    "fig.add_trace(go.Scatter(x=hull.exterior.xy[0].tolist(), y=hull.exterior.xy[1].tolist(), mode='lines', line=dict(color='blue')))\n",
    "# Set the layout and show the figure\n",
    "\n",
    "fig.update_layout(title='Convex Hull with Grid Cells', xaxis=dict(scaleanchor=\"y\", scaleratio=1), yaxis=dict(scaleanchor=\"x\", scaleratio=1))\n",
    "fig.show()\n",
    "# print(area_fraction,centers[0])\n"
   ]
  },
  {
   "cell_type": "code",
   "execution_count": 14,
   "metadata": {},
   "outputs": [],
   "source": [
    "import numpy as np\n",
    "from shapely.geometry import Polygon\n",
    "\n",
    "# Define the grid and the convex hull as before\n",
    "\n",
    "# Get all grid cells that are fully contained within the convex hull\n",
    "\n"
   ]
  },
  {
   "cell_type": "code",
   "execution_count": null,
   "metadata": {},
   "outputs": [],
   "source": []
  }
 ],
 "metadata": {
  "kernelspec": {
   "display_name": "Python 3",
   "language": "python",
   "name": "python3"
  },
  "language_info": {
   "codemirror_mode": {
    "name": "ipython",
    "version": 3
   },
   "file_extension": ".py",
   "mimetype": "text/x-python",
   "name": "python",
   "nbconvert_exporter": "python",
   "pygments_lexer": "ipython3",
   "version": "3.8.10"
  },
  "orig_nbformat": 4,
  "vscode": {
   "interpreter": {
    "hash": "916dbcbb3f70747c44a77c7bcd40155683ae19c65e1c03b4aa3499c5328201f1"
   }
  }
 },
 "nbformat": 4,
 "nbformat_minor": 2
}
