{
 "cells": [
  {
   "cell_type": "code",
   "execution_count": 5,
   "metadata": {},
   "outputs": [],
   "source": [
    "import os\n",
    "import sys\n",
    "import pandas as pd\n",
    "import numpy as np\n",
    "from descartes import PolygonPatch\n",
    "import matplotlib.pyplot as plt\n",
    "sys.path.insert(0, os.path.dirname(os.getcwd()))\n",
    "import alphashape\n",
    "import rospkg\n",
    "import networkx as nx\n"
   ]
  },
  {
   "cell_type": "code",
   "execution_count": 15,
   "metadata": {},
   "outputs": [],
   "source": [
    "dirname = rospkg.RosPack().get_path('mrpp_sumo')\n",
    "\n",
    "\n",
    "graph_name = 'iitb_full'\n",
    "no_of_base_stations = 10\n",
    "\n",
    "# graph_name = sys.argv[1]\n",
    "# no_of_base_stations = int(sys.argv[2])\n",
    "\n",
    "\n",
    "graph_path = dirname +'/graph_ml/'+ graph_name + '.graphml'\n",
    "graph_results_path = dirname +'/scripts/algorithms/partition_based_patrolling/graphs_partition_results/'+ graph_name + '/' + str(no_of_base_stations) + '_base_stations/'\n",
    "graph = nx.read_graphml(graph_path)"
   ]
  },
  {
   "cell_type": "code",
   "execution_count": 16,
   "metadata": {},
   "outputs": [
    {
     "name": "stdout",
     "output_type": "stream",
     "text": [
      "[(1106.88, 1570.64), (1290.4, 1095.8), (453.81, 1149.41), (955.53, 822.28), (448.4, 1255.07), (490.58, 1503.64), (0.0, 1293.82), (100.68, 1269.52), (1170.75, 1520.93), (1141.91, 1365.96), (1003.85, 1461.99), (1139.28, 1431.73), (1221.14, 1475.62), (1327.27, 1327.23), (1299.96, 1412.56), (904.68, 1630.03), (931.02, 1538.37), (867.34, 1505.41), (781.23, 1548.96), (792.18, 1493.54), (1121.57, 1165.46), (915.93, 952.21), (237.14, 1229.32), (208.85, 1239.29), (893.33, 1290.21), (850.41, 1171.61), (826.18, 1103.81), (765.4, 1337.47), (671.66, 1342.89), (1062.66, 626.08), (826.27, 1339.12), (1302.27, 496.79), (1142.08, 281.14), (1008.61, 482.62), (965.32, 485.94), (1105.22, 244.99), (1048.61, 209.74), (1039.06, 234.86), (1145.9, 1249.62), (731.86, 70.79), (727.73, 157.58), (911.68, 394.54), (819.73, 385.4), (917.24, 710.01), (965.97, 710.43), (953.0, 864.75), (850.53, 534.97), (376.7, 1458.29), (350.55, 1349.18), (299.78, 1206.88), (978.08, 1780.5), (760.81, 1608.86), (693.77, 1596.33), (934.18, 1469.05), (915.89, 727.9), (1270.68, 894.23), (698.39, 1049.58), (862.13, 224.97), (858.47, 166.98), (1071.9, 147.32), (963.84, 247.21), (956.28, 263.33), (1022.59, 281.34), (888.45, 507.1), (790.03, 538.64), (967.16, 626.59), (778.46, 780.92), (626.33, 838.02), (485.74, 1443.77), (976.63, 1330.28), (1071.07, 489.03), (1076.69, 626.0), (1349.73, 626.6), (1148.6, 626.05), (1243.03, 625.19), (1332.94, 897.07), (1394.7, 902.15), (1289.49, 1039.1), (1241.28, 1010.24), (1290.81, 1161.64), (1255.16, 1232.73), (1373.24, 1159.77), (1254.0, 1372.76), (990.65, 1584.62), (1163.24, 677.09), (952.34, 1525.82), (1008.9, 129.94), (421.56, 1163.27), (479.4, 1361.17), (788.03, 1012.18), (903.18, 1344.02), (1214.1, 499.58), (1347.89, 677.58), (385.19, 91.41), (533.94, 0.0), (748.77, 163.18), (535.78, 106.98), (965.56, 504.08), (1153.63, 1767.33), (950.31, 998.89), (1252.22, 1415.39), (1352.51, 514.68), (977.54, 1168.74)]\n"
     ]
    }
   ],
   "source": [
    "points_2d = [(0., 0.), (0., 1.), (1., 1.), (1., 0.),\n",
    "          (0.5, 0.25), (0.5, 0.75), (0.25, 0.5), (0.75, 0.5)]\n",
    "\n",
    "\n",
    "old_points = []\n",
    "for node,data in graph.nodes(data=True):\n",
    "    old_points.append((data['x'],data['y']))\n",
    "print(old_points)\n",
    "points_2d = old_points"
   ]
  },
  {
   "cell_type": "code",
   "execution_count": 31,
   "metadata": {},
   "outputs": [
    {
     "name": "stderr",
     "output_type": "stream",
     "text": [
      "/home/vishwajeet/.local/lib/python3.8/site-packages/shapely/ops.py:42: ShapelyDeprecationWarning: Iteration over multi-part geometries is deprecated and will be removed in Shapely 2.0. Use the `geoms` property to access the constituent parts of a multi-part geometry.\n",
      "  source = iter(source)\n",
      "/home/vishwajeet/.local/lib/python3.8/site-packages/alphashape/optimizealpha.py:41: ShapelyDeprecationWarning: Iteration over multi-part geometries is deprecated and will be removed in Shapely 2.0. Use the `geoms` property to access the constituent parts of a multi-part geometry.\n",
      "  return all([polygon.intersects(point) for point in points])\n"
     ]
    },
    {
     "data": {
      "text/plain": [
       "shapely.geometry.polygon.Polygon"
      ]
     },
     "execution_count": 31,
     "metadata": {},
     "output_type": "execute_result"
    }
   ],
   "source": [
    "alpha_shape = alphashape.alphashape(points_2d)\n",
    "type(alpha_shape)"
   ]
  },
  {
   "cell_type": "code",
   "execution_count": 47,
   "metadata": {},
   "outputs": [
    {
     "name": "stdout",
     "output_type": "stream",
     "text": [
      "[1373.24 1159.77]\n",
      "[1394.7   902.15]\n",
      "[1347.89  677.58]\n",
      "[1349.73  626.6 ]\n",
      "[1352.51  514.68]\n",
      "[1302.27  496.79]\n",
      "[1142.08  281.14]\n",
      "[1071.9   147.32]\n",
      "[1008.9   129.94]\n",
      "[731.86  70.79]\n",
      "[533.94   0.  ]\n",
      "[385.19  91.41]\n",
      "[535.78 106.98]\n",
      "[819.73 385.4 ]\n",
      "[790.03 538.64]\n",
      "[626.33 838.02]\n",
      "[ 453.81 1149.41]\n",
      "[ 421.56 1163.27]\n",
      "[ 299.78 1206.88]\n",
      "[ 237.14 1229.32]\n",
      "[ 208.85 1239.29]\n",
      "[ 100.68 1269.52]\n",
      "[   0.   1293.82]\n",
      "[ 376.7  1458.29]\n",
      "[ 490.58 1503.64]\n",
      "[ 693.77 1596.33]\n",
      "[ 760.81 1608.86]\n",
      "[ 978.08 1780.5 ]\n",
      "[1153.63 1767.33]\n",
      "[1221.14 1475.62]\n",
      "[1299.96 1412.56]\n",
      "[1327.27 1327.23]\n",
      "[1373.24 1159.77]\n"
     ]
    }
   ],
   "source": [
    "x,y = alpha_shape.exterior.coords.xy\n",
    "a =np.column_stack((alpha_shape.exterior.coords.xy))\n",
    "\n",
    "for j in a:\n",
    "    print(j)"
   ]
  },
  {
   "cell_type": "code",
   "execution_count": 53,
   "metadata": {},
   "outputs": [
    {
     "name": "stdout",
     "output_type": "stream",
     "text": [
      "My new polygon: \n",
      " POLYGON ((82 32.261, 79.304 32.474, 77.282 30.261, 81.037 28.354, 82 32.261))\n",
      "My loaded polygon: \n",
      " POLYGON ((82 32.261, 79.304 32.474, 77.282 30.261, 81.037 28.354, 82 32.261))\n"
     ]
    },
    {
     "data": {
      "image/svg+xml": "<svg xmlns=\"http://www.w3.org/2000/svg\" xmlns:xlink=\"http://www.w3.org/1999/xlink\" width=\"100.0\" height=\"100.0\" viewBox=\"77.09328 28.16528 5.095440000000011 4.497440000000001\" preserveAspectRatio=\"xMinYMin meet\"><g transform=\"matrix(1,0,0,-1,0,60.828)\"><path fill-rule=\"evenodd\" fill=\"#66cc99\" stroke=\"#555555\" stroke-width=\"0.10190880000000022\" opacity=\"0.6\" d=\"M 82.0,32.261 L 79.304,32.474 L 77.282,30.261 L 81.037,28.354 L 82.0,32.261 z\" /></g></svg>",
      "text/plain": [
       "<shapely.geometry.polygon.Polygon at 0x7efdf1698220>"
      ]
     },
     "execution_count": 53,
     "metadata": {},
     "output_type": "execute_result"
    }
   ],
   "source": [
    "from shapely import geometry\n",
    "import pickle\n",
    "\n",
    "# Make a polygon\n",
    "q = [(82,32.261),(79.304,32.474),(77.282,30.261),(81.037,28.354)]\n",
    "polygon = geometry.Polygon(q)\n",
    "\n",
    "# Check it out\n",
    "print('My new polygon: \\n', polygon)\n",
    "\n",
    "\n",
    "# Save polygon to disc\n",
    "with open('./my_polygon.hull', \"wb\") as poly_file:\n",
    "    pickle.dump(polygon, poly_file, pickle.HIGHEST_PROTOCOL)\n",
    "\n",
    "# Load polygon from disc\n",
    "with open('./my_polygon.hull', \"rb\") as poly_file:\n",
    "    loaded_polygon = pickle.load(poly_file)\n",
    "\n",
    "# Check it out again\n",
    "print('My loaded polygon: \\n', loaded_polygon)\n",
    "polygon\n",
    "# loaded_polygon"
   ]
  },
  {
   "cell_type": "code",
   "execution_count": 4,
   "metadata": {},
   "outputs": [],
   "source": [
    "from shapely.geometry import Polygon\n",
    "\n",
    "polygon1 = Polygon([(2,0),(3,0),(3,3),(2,3)])\n",
    "polygon2 = Polygon([(0,2),(0,1),(4,1),(4,2)])"
   ]
  },
  {
   "cell_type": "code",
   "execution_count": 7,
   "metadata": {},
   "outputs": [
    {
     "data": {
      "text/plain": [
       "(<shapely.geometry.polygon.Polygon at 0x7f8720277490>,\n",
       " <shapely.geometry.multipolygon.MultiPolygon at 0x7f870a6a15e0>)"
      ]
     },
     "execution_count": 7,
     "metadata": {},
     "output_type": "execute_result"
    }
   ],
   "source": [
    "difference = polygon2.difference(polygon1)  # or difference = polygon2 - polygon1\n",
    "difference2 =polygon2.difference(difference)\n",
    "difference2"
   ]
  }
 ],
 "metadata": {
  "kernelspec": {
   "display_name": "Python 3.8.10 64-bit",
   "language": "python",
   "name": "python3"
  },
  "language_info": {
   "codemirror_mode": {
    "name": "ipython",
    "version": 3
   },
   "file_extension": ".py",
   "mimetype": "text/x-python",
   "name": "python",
   "nbconvert_exporter": "python",
   "pygments_lexer": "ipython3",
   "version": "3.8.10"
  },
  "orig_nbformat": 4,
  "vscode": {
   "interpreter": {
    "hash": "916dbcbb3f70747c44a77c7bcd40155683ae19c65e1c03b4aa3499c5328201f1"
   }
  }
 },
 "nbformat": 4,
 "nbformat_minor": 2
}
